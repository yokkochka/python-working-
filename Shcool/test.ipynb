{
 "cells": [
  {
   "cell_type": "code",
   "execution_count": 2,
   "metadata": {},
   "outputs": [
    {
     "name": "stdout",
     "output_type": "stream",
     "text": [
      "[[0 1 0 1 0 1 0 1]\n",
      " [1 0 1 0 1 0 1 0]\n",
      " [0 1 0 1 0 1 0 1]\n",
      " [1 0 1 0 1 0 1 0]\n",
      " [0 1 0 1 0 1 0 1]\n",
      " [1 0 1 0 1 0 1 0]\n",
      " [0 1 0 1 0 1 0 1]\n",
      " [1 0 1 0 1 0 1 0]]\n"
     ]
    }
   ],
   "source": [
    "import numpy as np\n",
    "matrix = np.zeros((8,8), dtype = int)\n",
    "\n",
    "for i in range(1, 8, 2):\n",
    "    for j in range(0, 8, 2):\n",
    "        matrix[i][j] = 1\n",
    "\n",
    "for i in range(0, 8, 2):\n",
    "    for j in range(1, 8, 2):\n",
    "        matrix[i][j] = 1\n",
    "# matrix[1::2, ::2] = 1\n",
    "# matrix[::2, 1::2] = 1\n",
    "print(matrix)\n"
   ]
  },
  {
   "cell_type": "code",
   "execution_count": 3,
   "metadata": {},
   "outputs": [
    {
     "name": "stdout",
     "output_type": "stream",
     "text": [
      "[[0 1 2 3 4]\n",
      " [0 1 2 3 4]\n",
      " [0 1 2 3 4]\n",
      " [0 1 2 3 4]\n",
      " [0 1 2 3 4]]\n"
     ]
    }
   ],
   "source": [
    "arr = np.arange(25)%5\n",
    "matrix=arr.reshape(5,5)\n",
    "\n",
    "print(matrix)\n"
   ]
  },
  {
   "cell_type": "code",
   "execution_count": 4,
   "metadata": {},
   "outputs": [
    {
     "name": "stdout",
     "output_type": "stream",
     "text": [
      "[[[-2.31973467  0.87306163  0.85064477]\n",
      "  [ 2.02536654  0.74675807  0.680593  ]\n",
      "  [ 1.11366831 -1.56705675  0.96411712]]\n",
      "\n",
      " [[-1.15683709  0.25771633 -0.05867315]\n",
      "  [-1.2320321  -1.79618261 -1.75091261]\n",
      "  [-2.11906503 -0.56490858 -0.11450028]]\n",
      "\n",
      " [[ 0.41064913 -0.03636389  0.55382398]\n",
      "  [-0.0652828  -0.74241039  1.58395137]\n",
      "  [-0.27454696  1.58706649 -0.49490917]]]\n"
     ]
    }
   ],
   "source": [
    "random_array = np.random.randn(3,3,3)\n",
    "print(random_array)"
   ]
  },
  {
   "cell_type": "code",
   "execution_count": 5,
   "metadata": {},
   "outputs": [
    {
     "name": "stdout",
     "output_type": "stream",
     "text": [
      "[[1 1 1 1 1 1]\n",
      " [1 0 0 0 0 1]\n",
      " [1 0 0 0 0 1]\n",
      " [1 0 0 0 0 1]\n",
      " [1 0 0 0 0 1]\n",
      " [1 1 1 1 1 1]]\n"
     ]
    }
   ],
   "source": [
    "matrix = np.ones((6,6), dtype=int)\n",
    "matrix[1:-1 , 1:-1 ] = 0\n",
    "print(matrix) "
   ]
  },
  {
   "cell_type": "code",
   "execution_count": 6,
   "metadata": {},
   "outputs": [
    {
     "name": "stdout",
     "output_type": "stream",
     "text": [
      "[11 10  9  7  4  3  3  2  1  1]\n"
     ]
    }
   ],
   "source": [
    "my_array  = np.array([3, 4, 1, 2, 3, 7, 1, 9, 10, 11])\n",
    "\n",
    "sorted_arr = np.sort(my_array)\n",
    "sorted_arr = sorted_arr[::-1]\n",
    "print(sorted_arr)\n"
   ]
  },
  {
   "cell_type": "code",
   "execution_count": 7,
   "metadata": {},
   "outputs": [
    {
     "name": "stdout",
     "output_type": "stream",
     "text": [
      "Form:  (3, 3)\n",
      "Size:  9\n",
      "Size2:  2\n"
     ]
    }
   ],
   "source": [
    "matrix = np.array([[1, 2, 3], [4, 5, 6] , [7, 8, 9]])\n",
    "\n",
    "print(\"Form: \", matrix.shape)\n",
    "print(\"Size: \", matrix.size)\n",
    "print(\"Size2: \", matrix.ndim)\n"
   ]
  },
  {
   "cell_type": "code",
   "execution_count": 8,
   "metadata": {},
   "outputs": [
    {
     "name": "stdout",
     "output_type": "stream",
     "text": [
      "Mean:  0.4848319916397146\n",
      "Median:  0.4712575015503259\n"
     ]
    },
    {
     "data": {
      "image/png": "[encoded data removed]",
      "text/plain": [
       "<Figure size 640x480 with 1 Axes>"
      ]
     },
     "metadata": {},
     "output_type": "display_data"
    }
   ],
   "source": [
    "import matplotlib.pyplot as plt\n",
    "random_array = np.random.rand(100)\n",
    "\n",
    "mean_value = np.mean(random_array)\n",
    "median_value = np.median(random_array)\n",
    "\n",
    "print(\"Mean: \", mean_value)\n",
    "print(\"Median: \", median_value)\n",
    "\n",
    "plt.scatter(range(len(random_array)), random_array,alpha=0.7)\n",
    "plt.title(\"Title\")\n",
    "plt.xlabel(\"X\")\n",
    "plt.ylabel(\"Y\")\n",
    "plt.show()"
   ]
  }
 ],
 "metadata": {
  "kernelspec": {
   "display_name": "Python 3",
   "language": "python",
   "name": "python3"
  },
  "language_info": {
   "codemirror_mode": {
    "name": "ipython",
    "version": 3
   },
   "file_extension": ".py",
   "mimetype": "text/x-python",
   "name": "python",
   "nbconvert_exporter": "python",
   "pygments_lexer": "ipython3",
   "version": "3.11.4"
  }
 },
 "nbformat": 4,
 "nbformat_minor": 2
}
